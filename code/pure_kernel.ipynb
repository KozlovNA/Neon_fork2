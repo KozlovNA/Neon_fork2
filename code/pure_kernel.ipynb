{
 "cells": [
  {
   "cell_type": "code",
   "execution_count": 5,
   "metadata": {},
   "outputs": [
    {
     "name": "stdout",
     "output_type": "stream",
     "text": [
      "[-0.4367726  -0.03793902 -0.31824461  0.6984112  -0.46768845]\n",
      "[ 0.04641084 -0.2999522   0.9528246 ]\n",
      "3.3651089804275913\n"
     ]
    }
   ],
   "source": [
    "import numpy as np\n",
    "\n",
    "W = np.random.randn(5, 3)  # example matrix\n",
    "U, S, Vt = np.linalg.svd(W, full_matrices=False)\n",
    "\n",
    "u = U[:, 0]      # Left singular vector\n",
    "v = Vt[0, :]     # Right singular vector (note: Vt = V.T)\n",
    "print(u)\n",
    "print(v)\n",
    "print(S[0])  # Singular value"
   ]
  },
  {
   "cell_type": "code",
   "execution_count": 6,
   "metadata": {},
   "outputs": [
    {
     "name": "stdout",
     "output_type": "stream",
     "text": [
      "[ 0.4367726   0.03793902  0.31824461 -0.6984112   0.46768845]\n",
      "[-0.04641084  0.2999522  -0.9528246 ]\n",
      "3.3651089804275918\n"
     ]
    }
   ],
   "source": [
    "def top_singular_vectors(W, num_iter=100):\n",
    "    v = np.random.randn(W.shape[1])\n",
    "    v /= np.linalg.norm(v)\n",
    "    \n",
    "    for _ in range(num_iter):\n",
    "        u = W @ v\n",
    "        u /= np.linalg.norm(u)\n",
    "        v = W.T @ u\n",
    "        v /= np.linalg.norm(v)\n",
    "    \n",
    "    return u, v\n",
    "\n",
    "u, v = top_singular_vectors(W)\n",
    "print(u)\n",
    "print(v)\n",
    "print(u.T @ W @ v)\n"
   ]
  },
  {
   "cell_type": "code",
   "execution_count": 64,
   "metadata": {},
   "outputs": [],
   "source": [
    "import numpy as np\n",
    "def u1s1v1t(W, num_iter=30):\n",
    "    \"\"\"Power iteration using PyTorch operations\"\"\"\n",
    "    v = np.random.randn(W.shape[1])\n",
    "    v /= np.linalg.norm(v)\n",
    "    \n",
    "    for _ in range(num_iter):\n",
    "        u = W @ v\n",
    "        u /= np.linalg.norm(u)\n",
    "        v = W.T @ u\n",
    "        v /= np.linalg.norm(v)\n",
    "    sigma1 = (u.T @ W @ v)\n",
    "    u = u.reshape(-1, 1)         # shape: (5, 1)\n",
    "    v = v.reshape(-1, 1)         # shape: (3, 1)\n",
    "    return sigma1 * u @ v.T"
   ]
  },
  {
   "cell_type": "code",
   "execution_count": 65,
   "metadata": {},
   "outputs": [
    {
     "data": {
      "text/plain": [
       "array([[1.57454629, 2.08011388, 2.58568148],\n",
       "       [3.75936076, 4.96644562, 6.17353048]])"
      ]
     },
     "execution_count": 65,
     "metadata": {},
     "output_type": "execute_result"
    }
   ],
   "source": [
    "u1s1v1t(np.array([[1, 2, 3], [4, 5, 6]]), num_iter=30)"
   ]
  },
  {
   "cell_type": "code",
   "execution_count": null,
   "metadata": {},
   "outputs": [],
   "source": []
  }
 ],
 "metadata": {
  "kernelspec": {
   "display_name": "Python 3",
   "language": "python",
   "name": "python3"
  },
  "language_info": {
   "codemirror_mode": {
    "name": "ipython",
    "version": 3
   },
   "file_extension": ".py",
   "mimetype": "text/x-python",
   "name": "python",
   "nbconvert_exporter": "python",
   "pygments_lexer": "ipython3",
   "version": "3.13.2"
  }
 },
 "nbformat": 4,
 "nbformat_minor": 2
}
