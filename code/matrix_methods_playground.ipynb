{
 "cells": [
  {
   "cell_type": "code",
   "execution_count": 5,
   "metadata": {},
   "outputs": [
    {
     "name": "stdout",
     "output_type": "stream",
     "text": [
      "[-0.4367726  -0.03793902 -0.31824461  0.6984112  -0.46768845]\n",
      "[ 0.04641084 -0.2999522   0.9528246 ]\n",
      "3.3651089804275913\n"
     ]
    }
   ],
   "source": [
    "import numpy as np\n",
    "\n",
    "W = np.random.randn(5, 3)  # example matrix\n",
    "U, S, Vt = np.linalg.svd(W, full_matrices=False)\n",
    "\n",
    "u = U[:, 0]      # Left singular vector\n",
    "v = Vt[0, :]     # Right singular vector (note: Vt = V.T)\n",
    "print(u)\n",
    "print(v)\n",
    "print(S[0])  # Singular value"
   ]
  },
  {
   "cell_type": "code",
   "execution_count": 6,
   "metadata": {},
   "outputs": [
    {
     "name": "stdout",
     "output_type": "stream",
     "text": [
      "[ 0.4367726   0.03793902  0.31824461 -0.6984112   0.46768845]\n",
      "[-0.04641084  0.2999522  -0.9528246 ]\n",
      "3.3651089804275918\n"
     ]
    }
   ],
   "source": [
    "def top_singular_vectors(W, num_iter=100):\n",
    "    v = np.random.randn(W.shape[1])\n",
    "    v /= np.linalg.norm(v)\n",
    "    \n",
    "    for _ in range(num_iter):\n",
    "        u = W @ v\n",
    "        u /= np.linalg.norm(u)\n",
    "        v = W.T @ u\n",
    "        v /= np.linalg.norm(v)\n",
    "    \n",
    "    return u, v\n",
    "\n",
    "u, v = top_singular_vectors(W)\n",
    "print(u)\n",
    "print(v)\n",
    "print(u.T @ W @ v)\n"
   ]
  },
  {
   "cell_type": "code",
   "execution_count": 64,
   "metadata": {},
   "outputs": [],
   "source": [
    "import numpy as np\n",
    "def u1s1v1t(W, num_iter=30):\n",
    "    \"\"\"Power iteration using PyTorch operations\"\"\"\n",
    "    v = np.random.randn(W.shape[1])\n",
    "    v /= np.linalg.norm(v)\n",
    "    \n",
    "    for _ in range(num_iter):\n",
    "        u = W @ v\n",
    "        u /= np.linalg.norm(u)\n",
    "        v = W.T @ u\n",
    "        v /= np.linalg.norm(v)\n",
    "    sigma1 = (u.T @ W @ v)\n",
    "    u = u.reshape(-1, 1)         # shape: (5, 1)\n",
    "    v = v.reshape(-1, 1)         # shape: (3, 1)\n",
    "    return sigma1 * u @ v.T"
   ]
  },
  {
   "cell_type": "code",
   "execution_count": null,
   "metadata": {},
   "outputs": [],
   "source": [
    "import cupy as cp\n",
    "from cupyx.scipy.sparse.linalg import svds as cupyx_svds\n",
    "\n",
    "def u1s1v1t_svds(W, num_iter=30):\n",
    "    assert (W.shape[0] > 3 and W.shape[1] > 3), \"dimentions of W must be grater than 3\"\n",
    "    U, S, Vt = cupyx_svds(W,k=1,maxiter=num_iter,which='LM')\n",
    "\n",
    "    sigma1 = S[0]  # Largest singular value\n",
    "    u = U[:, 0].reshape(-1, 1)  # Reshape to column vector\n",
    "    v = Vt[0, :].reshape(-1, 1) # Reshape to column vector\n",
    "    \n",
    "    return sigma1 * (u @ v.T)"
   ]
  },
  {
   "cell_type": "code",
   "execution_count": null,
   "metadata": {},
   "outputs": [],
   "source": [
    "# import numpy as np\n",
    "# from petsc4py import PETSc\n",
    "# from slepc4py import SLEPc\n",
    "\n",
    "# def u1s1v1t_slepc(W_numpy, num_iter=30):\n",
    "#     \"\"\"Compute rank-1 approximation using SLEPc's Lanczos SVD\"\"\"\n",
    "#     m, n = W_numpy.shape\n",
    "    \n",
    "#     # Convert to PETSc matrix (sparse-friendly)\n",
    "#     A = PETSc.Mat().createDense((m, n), array=W_numpy)\n",
    "#     A.assemble()\n",
    "\n",
    "#     # Create and configure SVD solver\n",
    "#     svd = SLEPc.SVD().create()\n",
    "#     svd.setOperator(A)\n",
    "#     svd.setType(SLEPc.SVD.Type.LANCZOS)  # Directly use Lanczos SVD method\n",
    "#     svd.setDimensions(1)                 # Request 1 singular value\n",
    "#     svd.setTolerances(max_it=num_iter)    # Set iteration limit\n",
    "#     svd.setWhichSingularTriplets(SLEPc.SVD.Which.LARGEST)\n",
    "    \n",
    "#     # Solve SVD\n",
    "#     svd.solve()\n",
    "\n",
    "#     # Check convergence\n",
    "#     if svd.getConverged() < 1:\n",
    "#         raise RuntimeError(\"SVD failed to converge\")\n",
    "\n",
    "#     # Extract results\n",
    "#     sigma = svd.getSingularValue(0)\n",
    "#     u, v = A.getVecLeft(), A.getVecRight()\n",
    "#     svd.getSingularTriplet(0, u, v)\n",
    "\n",
    "#     return sigma * np.outer(u.getArray(), v.getArray())"
   ]
  },
  {
   "cell_type": "code",
   "execution_count": null,
   "metadata": {},
   "outputs": [],
   "source": [
    "# test_matr = cp.array([[1.0, 2.0, 3.0], [4.0, 5.0, 6.0]])\n",
    "import time\n",
    "np.random.seed(42)\n",
    "W_numpy = np.random.randn(1000, 1000)\n",
    "W_gpu = cp.asarray(W_numpy)\n",
    "\n",
    "start = time.time()\n",
    "result_gpu = u1s1v1t_svds(W_gpu, num_iter=3)\n",
    "time_svds = time.time() - start\n",
    "\n",
    "start = time.time()\n",
    "result_cpu = u1s1v1t(W_numpy, num_iter=1000)\n",
    "time_power_iter = time.time() - start\n",
    "\n",
    "# result_slepc = u1s1v1t_slepc(W_numpy, num_iter=3)\n",
    "\n",
    "U, S, Vt = np.linalg.svd(W_numpy)\n",
    "result_precise = S[0] * (U[:, 0].reshape(-1, 1) @ Vt[0, :].reshape(-1, 1).T)\n",
    "\n",
    "np.set_printoptions(formatter={'float_kind': '{:.2f}'.format})\n",
    "# print(\"svds_gpu:\\n\",result_gpu, \"\\n\\n\", \"power_iters_cpu:\\n\",result_cpu, \"\\n\\n\", \"precise:\\n\",result_precise)\n",
    "print(\"relative error of power iterations:\\n\", np.linalg.norm(result_cpu-result_precise)/np.linalg.norm(result_precise))\n",
    "print(\"relative error of svds:\\n\", np.linalg.norm(cp.asnumpy(result_gpu)-result_precise)/np.linalg.norm(result_precise))\n",
    "# print(\"relative error of slepc:\\n\",            np.linalg.norm(result_slepc-result_precise)/np.linalg.norm(result_precise))\n",
    "print(f'time for svds: {time_svds}')\n",
    "print(f'time for power iterations: {time_power_iter}')\n"
   ]
  },
  {
   "cell_type": "code",
   "execution_count": 65,
   "metadata": {},
   "outputs": [
    {
     "data": {
      "text/plain": [
       "array([[1.57454629, 2.08011388, 2.58568148],\n",
       "       [3.75936076, 4.96644562, 6.17353048]])"
      ]
     },
     "execution_count": 65,
     "metadata": {},
     "output_type": "execute_result"
    }
   ],
   "source": [
    "u1s1v1t(np.array([[1, 2, 3], [4, 5, 6]]), num_iter=30)"
   ]
  },
  {
   "cell_type": "code",
   "execution_count": null,
   "metadata": {},
   "outputs": [],
   "source": []
  }
 ],
 "metadata": {
  "kernelspec": {
   "display_name": "Python 3",
   "language": "python",
   "name": "python3"
  },
  "language_info": {
   "codemirror_mode": {
    "name": "ipython",
    "version": 3
   },
   "file_extension": ".py",
   "mimetype": "text/x-python",
   "name": "python",
   "nbconvert_exporter": "python",
   "pygments_lexer": "ipython3",
   "version": "3.13.2"
  }
 },
 "nbformat": 4,
 "nbformat_minor": 2
}
